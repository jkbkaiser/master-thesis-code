{
 "cells": [
  {
   "cell_type": "code",
   "execution_count": 1,
   "id": "7cb53014-ef4a-4a29-aafe-fae80efd62d3",
   "metadata": {},
   "outputs": [],
   "source": [
    "import json\n",
    "import os\n",
    "from itertools import chain\n",
    "from pathlib import Path\n",
    "import numpy as np\n",
    "\n",
    "from datasets import Features, Image, Value, load_dataset, DatasetDict\n",
    "from dotenv import load_dotenv\n",
    "from google.cloud import storage"
   ]
  },
  {
   "cell_type": "code",
   "execution_count": 2,
   "id": "e3b1969e-d892-43ba-b304-0a7a9a197fa0",
   "metadata": {},
   "outputs": [],
   "source": [
    "load_dotenv()\n",
    "\n",
    "GOOGLE_PROJECT = os.getenv(\"GOOGLE_PROJECT\")\n",
    "GOOGLE_BUCKET_URL = os.getenv(\"GOOGLE_BUCKET_URL\")\n",
    "BUCKET_NAME = \"thesis-gbif-mappings\"\n",
    "\n",
    "HUGGING_FACE_SOURCE_DATASET = \"jkbkaiser/thesis-gbif-raw\"\n",
    "HUGGING_FACE_HIERARCHY_DATASET = \"jkbkaiser/thesis-gbif-hierarchy\"\n",
    "HUGGING_FACE_FLAT_DATASET = \"jkbkaiser/thesis-gbif-flat\"\n",
    "\n",
    "DATA_DIR = Path(\"./../../data\")\n",
    "GBIF_DATA_DIR = DATA_DIR / \"gbif\"\n",
    "EXTRACT_LABELS_DIR = GBIF_DATA_DIR / \"extract-labels\""
   ]
  },
  {
   "cell_type": "code",
   "execution_count": 3,
   "id": "fefcf2dd-258e-4e41-86cc-1ff867b68304",
   "metadata": {},
   "outputs": [],
   "source": [
    "if not EXTRACT_LABELS_DIR.exists():\n",
    "    EXTRACT_LABELS_DIR.mkdir(parents=True)"
   ]
  },
  {
   "cell_type": "code",
   "execution_count": 15,
   "id": "667f0dc5-af62-41f6-8299-28fa0d04b6a4",
   "metadata": {},
   "outputs": [],
   "source": [
    "def upload_mappings(mappings, destination_blob_name):\n",
    "    source_file_name = EXTRACT_LABELS_DIR / destination_blob_name\n",
    "    with open(source_file_name, \"w\") as f:\n",
    "        f.write(json.dumps(mappings))\n",
    "    \n",
    "    storage_client = storage.Client(GOOGLE_PROJECT)\n",
    "    bucket = storage_client.bucket(BUCKET_NAME)\n",
    "    blob = bucket.blob(destination_blob_name)\n",
    "    \n",
    "    if blob.exists():\n",
    "        print(\"deleted existing blob\")\n",
    "        blob.delete()\n",
    "\n",
    "    blob.cache_control = \"no-store,no-cache,max-age=0\"\n",
    "    blob.upload_from_filename(source_file_name, if_generation_match=None)\n",
    "    print(f\"File {source_file_name} uploaded to {destination_blob_name}.\")\n",
    "\n",
    "\n",
    "def upload_numpy_array(mask, destination_blob_name):\n",
    "    source_file_name = EXTRACT_LABELS_DIR / destination_blob_name\n",
    "    with open(source_file_name, \"wb\") as f:\n",
    "        np.save(f, mask)\n",
    "    \n",
    "    storage_client = storage.Client(GOOGLE_PROJECT)\n",
    "    bucket = storage_client.bucket(BUCKET_NAME)\n",
    "    blob = bucket.blob(destination_blob_name)\n",
    "    \n",
    "    if blob.exists():\n",
    "        print(\"deleted existing blob\")\n",
    "        blob.delete()\n",
    "\n",
    "    blob.cache_control = \"no-store,no-cache,max-age=0\"\n",
    "    blob.upload_from_filename(source_file_name, if_generation_match=None)\n",
    "    print(f\"File {source_file_name} uploaded to {destination_blob_name}.\")"
   ]
  },
  {
   "cell_type": "code",
   "execution_count": 5,
   "id": "6b598a7e-5f53-4329-a0b5-713b913138a9",
   "metadata": {},
   "outputs": [
    {
     "name": "stdout",
     "output_type": "stream",
     "text": [
      "Dataset({\n",
      "    features: ['image', 'id', 'kingdom_key', 'phylum_key', 'order_key', 'family_key', 'genus_key', 'scientific_name', 'species'],\n",
      "    num_rows: 999\n",
      "})\n",
      "Dataset({\n",
      "    features: ['image', 'species', 'genus'],\n",
      "    num_rows: 750\n",
      "})\n"
     ]
    }
   ],
   "source": [
    "ds = load_dataset(HUGGING_FACE_SOURCE_DATASET)[\"data\"]\n",
    "print(ds)\n",
    "\n",
    "def species_exists(row):\n",
    "    if row[\"species\"] is None:\n",
    "        return False\n",
    "    return True\n",
    "\n",
    "ds = ds.filter(species_exists)\n",
    "\n",
    "ds = ds.remove_columns(\n",
    "    [\n",
    "        \"kingdom_key\",\n",
    "        \"phylum_key\",\n",
    "        \"order_key\",\n",
    "        \"family_key\",\n",
    "        \"genus_key\",\n",
    "        \"scientific_name\",\n",
    "        \"id\",\n",
    "    ]\n",
    ")\n",
    "\n",
    "def extract_names(entry):\n",
    "    species = entry[\"species\"].lower()\n",
    "    name_parts = species.split(\" \", 1)\n",
    "\n",
    "    if len(name_parts) != 2:\n",
    "        print(\"Could not extract\", name_parts)\n",
    "\n",
    "    return {\n",
    "        \"image\": entry[\"image\"],\n",
    "        \"genus\": name_parts[0],\n",
    "        \"species\": species,\n",
    "    }\n",
    "\n",
    "ds = ds.map(extract_names)\n",
    "print(ds)"
   ]
  },
  {
   "cell_type": "markdown",
   "id": "a4950c31-998b-4e94-b286-4d9d14a28057",
   "metadata": {},
   "source": [
    "# Seperate labels"
   ]
  },
  {
   "cell_type": "markdown",
   "id": "0e6dc095-a265-4843-ac46-b931a119fb2f",
   "metadata": {},
   "source": [
    "## Get Ids"
   ]
  },
  {
   "cell_type": "code",
   "execution_count": 6,
   "id": "1560dc58-60ad-4f1a-b93b-681f04d99acf",
   "metadata": {},
   "outputs": [
    {
     "name": "stdout",
     "output_type": "stream",
     "text": [
      "deleted existing blob\n",
      "File ../../data/gbif/extract-labels/mappings_per_level.json uploaded to mappings_per_level.json.\n",
      "257\n",
      "185\n"
     ]
    }
   ],
   "source": [
    "def get_mapping_per_level(ds):\n",
    "    ds = ds.with_format(\"numpy\")\n",
    "    uniq_species = ds.unique(\"species\")\n",
    "    id2species = {i: elem for i, elem in enumerate(uniq_species)}\n",
    "    species2id = {elem: i for i, elem in enumerate(uniq_species)}\n",
    "\n",
    "    uniq_genus = ds.unique(\"genus\")\n",
    "    id2geni = {i: elem for i, elem in enumerate(uniq_genus)}\n",
    "    geni2id = {elem: i for i, elem in enumerate(uniq_genus)}\n",
    "\n",
    "    return id2species, species2id, id2geni, geni2id\n",
    "\n",
    "id2species, species2id, id2genus, genus2id = get_mapping_per_level(ds)\n",
    "\n",
    "mappings= {\n",
    "    \"id2species\": id2species,\n",
    "    \"species2id\": species2id,\n",
    "    \"id2genus\": id2genus,\n",
    "    \"genus2id\": genus2id,\n",
    "}\n",
    "\n",
    "upload_mappings(mappings, \"mappings_per_level.json\")\n",
    "print(len(id2species))\n",
    "print(len(id2genus))"
   ]
  },
  {
   "cell_type": "code",
   "execution_count": 7,
   "id": "3653b593-2707-4e42-8238-c9b32599bee1",
   "metadata": {},
   "outputs": [],
   "source": [
    "def map_to_id(row, genus2id, species2id):\n",
    "    row[\"genus\"] = genus2id[row[\"genus\"]]\n",
    "    row[\"species\"] = species2id[row[\"species\"]]\n",
    "    return row\n",
    "\n",
    "heirarchy_ds = ds.map(lambda x: map_to_id(x, genus2id, species2id))\n",
    "features = Features(\n",
    "    {\n",
    "        \"image\": Image(mode=None, decode=True, id=None),\n",
    "        \"species\": Value(dtype=\"int32\", id=None),\n",
    "        \"genus\": Value(dtype=\"int32\", id=None),\n",
    "    }\n",
    ")\n",
    "heirarchy_ds = heirarchy_ds.cast(features)"
   ]
  },
  {
   "cell_type": "code",
   "execution_count": 8,
   "id": "a1815fda-aacd-4ffb-ad4e-6d4fc116aeb8",
   "metadata": {},
   "outputs": [
    {
     "data": {
      "text/plain": [
       "'coccinella septempunctata'"
      ]
     },
     "execution_count": 8,
     "metadata": {},
     "output_type": "execute_result"
    }
   ],
   "source": [
    "u, c = np.unique(heirarchy_ds[\"species\"], return_counts=True)\n",
    "label = u[np.argmax(c)]\n",
    "id2species[label]"
   ]
  },
  {
   "cell_type": "code",
   "execution_count": 9,
   "id": "5eb3633d-c803-40b6-87ae-80844f8df4cc",
   "metadata": {},
   "outputs": [
    {
     "data": {
      "text/plain": [
       "DatasetDict({\n",
       "    train: Dataset({\n",
       "        features: ['image', 'species', 'genus'],\n",
       "        num_rows: 600\n",
       "    })\n",
       "    valid: Dataset({\n",
       "        features: ['image', 'species', 'genus'],\n",
       "        num_rows: 75\n",
       "    })\n",
       "    test: Dataset({\n",
       "        features: ['image', 'species', 'genus'],\n",
       "        num_rows: 75\n",
       "    })\n",
       "})"
      ]
     },
     "execution_count": 9,
     "metadata": {},
     "output_type": "execute_result"
    }
   ],
   "source": [
    "ds_train_validtest = heirarchy_ds.train_test_split(test_size=0.2, seed=42)\n",
    "ds_validtest = ds_train_validtest[\"test\"].train_test_split(test_size=0.5, seed=42)\n",
    "\n",
    "ds_dict = DatasetDict({\n",
    "    \"train\": ds_train_validtest[\"train\"],\n",
    "    \"valid\": ds_validtest[\"train\"],\n",
    "    \"test\": ds_validtest[\"test\"],\n",
    "})\n",
    "\n",
    "ds_dict"
   ]
  },
  {
   "cell_type": "code",
   "execution_count": 10,
   "id": "167f3df6-cda0-47b3-9554-78a223b24284",
   "metadata": {},
   "outputs": [
    {
     "data": {
      "application/vnd.jupyter.widget-view+json": {
       "model_id": "b2bfce5076c946b1b5ccd9eaa0ec03db",
       "version_major": 2,
       "version_minor": 0
      },
      "text/plain": [
       "Uploading the dataset shards:   0%|          | 0/1 [00:00<?, ?it/s]"
      ]
     },
     "metadata": {},
     "output_type": "display_data"
    },
    {
     "data": {
      "application/vnd.jupyter.widget-view+json": {
       "model_id": "cb47553fbf5b474fb307cfb65f666ec7",
       "version_major": 2,
       "version_minor": 0
      },
      "text/plain": [
       "Map:   0%|          | 0/600 [00:00<?, ? examples/s]"
      ]
     },
     "metadata": {},
     "output_type": "display_data"
    },
    {
     "data": {
      "application/vnd.jupyter.widget-view+json": {
       "model_id": "ff1d7ae93bb04e6ca10f8538c1792c0b",
       "version_major": 2,
       "version_minor": 0
      },
      "text/plain": [
       "Creating parquet from Arrow format:   0%|          | 0/6 [00:00<?, ?ba/s]"
      ]
     },
     "metadata": {},
     "output_type": "display_data"
    },
    {
     "data": {
      "application/vnd.jupyter.widget-view+json": {
       "model_id": "4167110d2e2a4055a80622f0968175ba",
       "version_major": 2,
       "version_minor": 0
      },
      "text/plain": [
       "Uploading the dataset shards:   0%|          | 0/1 [00:00<?, ?it/s]"
      ]
     },
     "metadata": {},
     "output_type": "display_data"
    },
    {
     "data": {
      "application/vnd.jupyter.widget-view+json": {
       "model_id": "b44c38ce8929438e9487cf6ef09e6867",
       "version_major": 2,
       "version_minor": 0
      },
      "text/plain": [
       "Map:   0%|          | 0/75 [00:00<?, ? examples/s]"
      ]
     },
     "metadata": {},
     "output_type": "display_data"
    },
    {
     "data": {
      "application/vnd.jupyter.widget-view+json": {
       "model_id": "aa469d2207824b2aa199ad80354a578e",
       "version_major": 2,
       "version_minor": 0
      },
      "text/plain": [
       "Creating parquet from Arrow format:   0%|          | 0/1 [00:00<?, ?ba/s]"
      ]
     },
     "metadata": {},
     "output_type": "display_data"
    },
    {
     "data": {
      "application/vnd.jupyter.widget-view+json": {
       "model_id": "10b3022c92da44299e114dd35d9d26dd",
       "version_major": 2,
       "version_minor": 0
      },
      "text/plain": [
       "Uploading the dataset shards:   0%|          | 0/1 [00:00<?, ?it/s]"
      ]
     },
     "metadata": {},
     "output_type": "display_data"
    },
    {
     "data": {
      "application/vnd.jupyter.widget-view+json": {
       "model_id": "87d920725dcf4bea81b6e4bbf7e45a0e",
       "version_major": 2,
       "version_minor": 0
      },
      "text/plain": [
       "Map:   0%|          | 0/75 [00:00<?, ? examples/s]"
      ]
     },
     "metadata": {},
     "output_type": "display_data"
    },
    {
     "data": {
      "application/vnd.jupyter.widget-view+json": {
       "model_id": "fd81dde2cb1b425d893710e12b65be57",
       "version_major": 2,
       "version_minor": 0
      },
      "text/plain": [
       "Creating parquet from Arrow format:   0%|          | 0/1 [00:00<?, ?ba/s]"
      ]
     },
     "metadata": {},
     "output_type": "display_data"
    },
    {
     "name": "stderr",
     "output_type": "stream",
     "text": [
      "No files have been modified since last commit. Skipping to prevent empty commit.\n"
     ]
    },
    {
     "data": {
      "text/plain": [
       "CommitInfo(commit_url='https://huggingface.co/datasets/jkbkaiser/thesis-gbif-hierarchy/commit/c139bfe03284d5b5628ebffa2d6b23f9cbfb6b78', commit_message='Upload dataset', commit_description='', oid='c139bfe03284d5b5628ebffa2d6b23f9cbfb6b78', pr_url=None, repo_url=RepoUrl('https://huggingface.co/datasets/jkbkaiser/thesis-gbif-hierarchy', endpoint='https://huggingface.co', repo_type='dataset', repo_id='jkbkaiser/thesis-gbif-hierarchy'), pr_revision=None, pr_num=None)"
      ]
     },
     "execution_count": 10,
     "metadata": {},
     "output_type": "execute_result"
    }
   ],
   "source": [
    "ds_dict.push_to_hub(HUGGING_FACE_HIERARCHY_DATASET, private=True)"
   ]
  },
  {
   "cell_type": "markdown",
   "id": "629d07f6-2001-4573-aa7b-07a54b9095e0",
   "metadata": {},
   "source": [
    "## Extract hierarchy"
   ]
  },
  {
   "cell_type": "code",
   "execution_count": 11,
   "id": "4bb9537a-8235-444a-9ea9-04d99181ff50",
   "metadata": {},
   "outputs": [],
   "source": [
    "def extract_hierarchy(ds):\n",
    "    species_to_genus = {}\n",
    "    genus_to_species = {}\n",
    "    \n",
    "    for row in ds:\n",
    "        species = row[\"species\"]\n",
    "        genus = row[\"genus\"]\n",
    "\n",
    "        if species not in species_to_genus:\n",
    "            species_to_genus[species] = genus\n",
    "        elif species_to_genus[species] != genus:\n",
    "            print(\"mismatch\", species_to_genus[species], genus)\n",
    "\n",
    "        if genus not in genus_to_species:\n",
    "            genus_to_species[genus] = [species]\n",
    "        else:\n",
    "            if species not in genus_to_species[genus]:\n",
    "                genus_to_species[genus] += [species]\n",
    "\n",
    "    return species_to_genus, genus_to_species\n",
    "\n",
    "species_to_genus, genus_to_species = extract_hierarchy(heirarchy_ds)"
   ]
  },
  {
   "cell_type": "code",
   "execution_count": 36,
   "id": "d30cdc0a-1a5a-4702-8878-5f6e04eb9253",
   "metadata": {},
   "outputs": [
    {
     "name": "stdout",
     "output_type": "stream",
     "text": [
      "(185, 257)\n"
     ]
    }
   ],
   "source": [
    "num_species = len(species_to_genus)\n",
    "num_genus = len(genus_to_species)\n",
    "masks = []\n",
    "\n",
    "for (key, value) in genus_to_species.items():\n",
    "    mask = np.zeros(num_species)\n",
    "    mask[value] = 1\n",
    "    masks.append(mask)\n",
    "\n",
    "mask = np.stack(masks)\n",
    "print(mask.shape)"
   ]
  },
  {
   "cell_type": "code",
   "execution_count": 37,
   "id": "3254bfed-d326-4ea6-a68b-38f3b159d711",
   "metadata": {},
   "outputs": [
    {
     "name": "stdout",
     "output_type": "stream",
     "text": [
      "deleted existing blob\n",
      "File ../../data/gbif/extract-labels/hierarchy_mask.npy uploaded to hierarchy_mask.npy.\n"
     ]
    }
   ],
   "source": [
    "upload_numpy_array(mask, \"hierarchy_mask.npy\")"
   ]
  },
  {
   "cell_type": "code",
   "execution_count": 33,
   "id": "12551cbf-7150-40b5-9cac-37fcd4bc3dce",
   "metadata": {},
   "outputs": [
    {
     "name": "stdout",
     "output_type": "stream",
     "text": [
      "23\n",
      "cicindela duodecimguttata\n",
      "cicindela\n"
     ]
    }
   ],
   "source": [
    "species_to_genus_arr = np.zeros(num_species, dtype=np.int32)\n",
    "for key, value in species_to_genus.items():\n",
    "    species_to_genus_arr[key] = value\n",
    "\n",
    "print(species_to_genus_arr[256])\n",
    "print(id2species[256])\n",
    "print(id2genus[23])"
   ]
  },
  {
   "cell_type": "code",
   "execution_count": 38,
   "id": "82a74f22-dd69-40a6-80ed-f3934a45eb2e",
   "metadata": {},
   "outputs": [
    {
     "name": "stdout",
     "output_type": "stream",
     "text": [
      "deleted existing blob\n",
      "File ../../data/gbif/extract-labels/species_to_genus.npy uploaded to species_to_genus.npy.\n"
     ]
    }
   ],
   "source": [
    "upload_numpy_array(species_to_genus_arr, \"species_to_genus.npy\")"
   ]
  },
  {
   "cell_type": "code",
   "execution_count": 47,
   "id": "61217d95-3182-4022-8491-9aa3e7e41fbf",
   "metadata": {},
   "outputs": [
    {
     "name": "stdout",
     "output_type": "stream",
     "text": [
      "float32\n"
     ]
    }
   ],
   "source": [
    "species_to_genus_matrix = np.zeros((num_species, num_genus), dtype=np.float32)\n",
    "for species, genus in species_to_genus.items():\n",
    "    species_to_genus_matrix[species, genus] = 1\n",
    "print(species_to_genus_matrix.dtype)"
   ]
  },
  {
   "cell_type": "code",
   "execution_count": 48,
   "id": "f1d40e44-c195-4510-8b23-cc0b977219a2",
   "metadata": {},
   "outputs": [
    {
     "name": "stdout",
     "output_type": "stream",
     "text": [
      "deleted existing blob\n",
      "File ../../data/gbif/extract-labels/species_to_genus_matrix.npy uploaded to species_to_genus_matrix.npy.\n"
     ]
    }
   ],
   "source": [
    "upload_numpy_array(species_to_genus_matrix, \"species_to_genus_matrix.npy\")"
   ]
  },
  {
   "cell_type": "markdown",
   "id": "f47da40d-e951-4882-b0f6-0cdbcd62f5b4",
   "metadata": {},
   "source": [
    "# Shared labels"
   ]
  },
  {
   "cell_type": "code",
   "execution_count": 15,
   "id": "96f1da48-b1c4-46c5-b743-a9b2b97e869f",
   "metadata": {},
   "outputs": [
    {
     "name": "stdout",
     "output_type": "stream",
     "text": [
      "deleted existing blob\n",
      "File ../../data/gbif/extract-labels/flat_mapping.json uploaded to flat_mapping.json.\n",
      "185\n",
      "442\n"
     ]
    }
   ],
   "source": [
    "def get_flat_mapping(ds):\n",
    "    ds = ds.with_format(\"numpy\")\n",
    "\n",
    "    uniq_genus = ds.unique(\"genus\")\n",
    "    uniq_species = ds.unique(\"species\")\n",
    "    \n",
    "    combined = uniq_genus + uniq_species\n",
    "\n",
    "    split = len(uniq_genus)\n",
    "    \n",
    "    id2labels = {i: elem for i, elem in enumerate(combined)}\n",
    "    labels2id = {elem: i for i, elem in enumerate(combined)}\n",
    "\n",
    "    return id2labels, labels2id, split\n",
    "\n",
    "id2labels, labels2id, split = get_flat_mapping(ds)\n",
    "\n",
    "flat_mappings = {\n",
    "    \"id2labels\": id2labels,\n",
    "    \"labels2id\": labels2id,\n",
    "    \"split\": split,\n",
    "}\n",
    "\n",
    "upload_mappings(mappings, \"flat_mapping.json\")\n",
    "print(split)\n",
    "print(len(id2labels))"
   ]
  },
  {
   "cell_type": "code",
   "execution_count": 16,
   "id": "da772a34-3fc3-46eb-bda1-a881983cf929",
   "metadata": {},
   "outputs": [
    {
     "data": {
      "application/vnd.jupyter.widget-view+json": {
       "model_id": "581713a3642a4384b80463fe995b2ad4",
       "version_major": 2,
       "version_minor": 0
      },
      "text/plain": [
       "Map:   0%|          | 0/750 [00:00<?, ? examples/s]"
      ]
     },
     "metadata": {},
     "output_type": "display_data"
    },
    {
     "data": {
      "application/vnd.jupyter.widget-view+json": {
       "model_id": "07f92bd896c44cb8b146a6aef7b99785",
       "version_major": 2,
       "version_minor": 0
      },
      "text/plain": [
       "Casting the dataset:   0%|          | 0/750 [00:00<?, ? examples/s]"
      ]
     },
     "metadata": {},
     "output_type": "display_data"
    }
   ],
   "source": [
    "def map_to_label(row, labels2id):\n",
    "    row[\"genus\"] = labels2id[row[\"genus\"]]\n",
    "    row[\"species\"] = labels2id[row[\"species\"]]\n",
    "    return row\n",
    "\n",
    "flat_ds = ds.map(lambda x: map_to_label(x, labels2id))\n",
    "features = Features(\n",
    "    {\n",
    "        \"image\": Image(mode=None, decode=True, id=None),\n",
    "        \"species\": Value(dtype=\"int32\", id=None),\n",
    "        \"genus\": Value(dtype=\"int32\", id=None),\n",
    "    }\n",
    ")\n",
    "flat_ds = flat_ds.cast(features)"
   ]
  },
  {
   "cell_type": "code",
   "execution_count": 17,
   "id": "e44161f3-61cb-4fb5-b158-774895703918",
   "metadata": {},
   "outputs": [
    {
     "data": {
      "text/plain": [
       "'coccinella septempunctata'"
      ]
     },
     "execution_count": 17,
     "metadata": {},
     "output_type": "execute_result"
    }
   ],
   "source": [
    "u, c = np.unique(flat_ds[\"species\"], return_counts=True)\n",
    "label = u[np.argmax(c)]\n",
    "id2labels[label]"
   ]
  },
  {
   "cell_type": "code",
   "execution_count": 18,
   "id": "eb2442e7-0971-4ed3-bf6f-7ddd70c56a8a",
   "metadata": {},
   "outputs": [
    {
     "data": {
      "text/plain": [
       "DatasetDict({\n",
       "    train: Dataset({\n",
       "        features: ['image', 'species', 'genus'],\n",
       "        num_rows: 600\n",
       "    })\n",
       "    valid: Dataset({\n",
       "        features: ['image', 'species', 'genus'],\n",
       "        num_rows: 75\n",
       "    })\n",
       "    test: Dataset({\n",
       "        features: ['image', 'species', 'genus'],\n",
       "        num_rows: 75\n",
       "    })\n",
       "})"
      ]
     },
     "execution_count": 18,
     "metadata": {},
     "output_type": "execute_result"
    }
   ],
   "source": [
    "ds_train_validtest = flat_ds.train_test_split(test_size=0.2, seed=42)\n",
    "ds_validtest = ds_train_validtest[\"test\"].train_test_split(test_size=0.5, seed=42)\n",
    "\n",
    "ds_dict = DatasetDict({\n",
    "    \"train\": ds_train_validtest[\"train\"],\n",
    "    \"valid\": ds_validtest[\"train\"],\n",
    "    \"test\": ds_validtest[\"test\"],\n",
    "})\n",
    "\n",
    "ds_dict"
   ]
  },
  {
   "cell_type": "code",
   "execution_count": 19,
   "id": "b266396a-88d2-41cb-a95a-e32598a3f5d4",
   "metadata": {},
   "outputs": [
    {
     "data": {
      "application/vnd.jupyter.widget-view+json": {
       "model_id": "7b835bf266134c69b0744bd111deb235",
       "version_major": 2,
       "version_minor": 0
      },
      "text/plain": [
       "Uploading the dataset shards:   0%|          | 0/1 [00:00<?, ?it/s]"
      ]
     },
     "metadata": {},
     "output_type": "display_data"
    },
    {
     "data": {
      "application/vnd.jupyter.widget-view+json": {
       "model_id": "a895fa1607c3414181fd1adecc8ec9dd",
       "version_major": 2,
       "version_minor": 0
      },
      "text/plain": [
       "Map:   0%|          | 0/600 [00:00<?, ? examples/s]"
      ]
     },
     "metadata": {},
     "output_type": "display_data"
    },
    {
     "data": {
      "application/vnd.jupyter.widget-view+json": {
       "model_id": "629aefa8e9f149cabb50d36aa760b8d9",
       "version_major": 2,
       "version_minor": 0
      },
      "text/plain": [
       "Creating parquet from Arrow format:   0%|          | 0/6 [00:00<?, ?ba/s]"
      ]
     },
     "metadata": {},
     "output_type": "display_data"
    },
    {
     "data": {
      "application/vnd.jupyter.widget-view+json": {
       "model_id": "674ab9eda0ce401389bdabcf1e9adb38",
       "version_major": 2,
       "version_minor": 0
      },
      "text/plain": [
       "Uploading the dataset shards:   0%|          | 0/1 [00:00<?, ?it/s]"
      ]
     },
     "metadata": {},
     "output_type": "display_data"
    },
    {
     "data": {
      "application/vnd.jupyter.widget-view+json": {
       "model_id": "43b413b901c342f2914da1cd3f0d163a",
       "version_major": 2,
       "version_minor": 0
      },
      "text/plain": [
       "Map:   0%|          | 0/75 [00:00<?, ? examples/s]"
      ]
     },
     "metadata": {},
     "output_type": "display_data"
    },
    {
     "data": {
      "application/vnd.jupyter.widget-view+json": {
       "model_id": "9eed892a8a8441eaac8038aea2a61d5e",
       "version_major": 2,
       "version_minor": 0
      },
      "text/plain": [
       "Creating parquet from Arrow format:   0%|          | 0/1 [00:00<?, ?ba/s]"
      ]
     },
     "metadata": {},
     "output_type": "display_data"
    },
    {
     "data": {
      "application/vnd.jupyter.widget-view+json": {
       "model_id": "bb67edd5be3e4746b63f694657590d8b",
       "version_major": 2,
       "version_minor": 0
      },
      "text/plain": [
       "Uploading the dataset shards:   0%|          | 0/1 [00:00<?, ?it/s]"
      ]
     },
     "metadata": {},
     "output_type": "display_data"
    },
    {
     "data": {
      "application/vnd.jupyter.widget-view+json": {
       "model_id": "dc9e57deddf844b8a35ce684fc29fa28",
       "version_major": 2,
       "version_minor": 0
      },
      "text/plain": [
       "Map:   0%|          | 0/75 [00:00<?, ? examples/s]"
      ]
     },
     "metadata": {},
     "output_type": "display_data"
    },
    {
     "data": {
      "application/vnd.jupyter.widget-view+json": {
       "model_id": "d010d55668d7459e942927325301d6ab",
       "version_major": 2,
       "version_minor": 0
      },
      "text/plain": [
       "Creating parquet from Arrow format:   0%|          | 0/1 [00:00<?, ?ba/s]"
      ]
     },
     "metadata": {},
     "output_type": "display_data"
    },
    {
     "data": {
      "text/plain": [
       "CommitInfo(commit_url='https://huggingface.co/datasets/jkbkaiser/thesis-gbif-flat/commit/214fd745bd34a241260ac443cd88078295ddf2b2', commit_message='Upload dataset', commit_description='', oid='214fd745bd34a241260ac443cd88078295ddf2b2', pr_url=None, repo_url=RepoUrl('https://huggingface.co/datasets/jkbkaiser/thesis-gbif-flat', endpoint='https://huggingface.co', repo_type='dataset', repo_id='jkbkaiser/thesis-gbif-flat'), pr_revision=None, pr_num=None)"
      ]
     },
     "execution_count": 19,
     "metadata": {},
     "output_type": "execute_result"
    }
   ],
   "source": [
    "ds_dict.push_to_hub(HUGGING_FACE_FLAT_DATASET, private=True)"
   ]
  },
  {
   "cell_type": "code",
   "execution_count": null,
   "id": "4f45afc3-6b4c-450a-a98f-82e6e5a9744a",
   "metadata": {},
   "outputs": [],
   "source": []
  }
 ],
 "metadata": {
  "kernelspec": {
   "display_name": "thesis",
   "language": "python",
   "name": "thesis"
  },
  "language_info": {
   "codemirror_mode": {
    "name": "ipython",
    "version": 3
   },
   "file_extension": ".py",
   "mimetype": "text/x-python",
   "name": "python",
   "nbconvert_exporter": "python",
   "pygments_lexer": "ipython3",
   "version": "3.11.10"
  }
 },
 "nbformat": 4,
 "nbformat_minor": 5
}
